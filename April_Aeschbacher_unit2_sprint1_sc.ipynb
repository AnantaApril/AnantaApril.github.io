{
  "nbformat": 4,
  "nbformat_minor": 0,
  "metadata": {
    "colab": {
      "name": "April_Aeschbacher_unit2-sprint1-sc.ipynb",
      "provenance": [],
      "collapsed_sections": [],
      "include_colab_link": true
    },
    "kernelspec": {
      "name": "python3",
      "display_name": "Python 3"
    }
  },
  "cells": [
    {
      "cell_type": "markdown",
      "metadata": {
        "id": "view-in-github",
        "colab_type": "text"
      },
      "source": [
        "<a href=\"https://colab.research.google.com/github/AnantaApril/AnantaApril.github.io/blob/master/April_Aeschbacher_unit2_sprint1_sc.ipynb\" target=\"_parent\"><img src=\"https://colab.research.google.com/assets/colab-badge.svg\" alt=\"Open In Colab\"/></a>"
      ]
    },
    {
      "cell_type": "markdown",
      "metadata": {
        "id": "VZf2akBaMjq8",
        "colab_type": "text"
      },
      "source": [
        "_Lambda School Data Science, Unit 2_\n",
        " \n",
        "# Linear Models Sprint Challenge\n",
        "\n",
        "To demonstrate mastery on your Sprint Challenge, do all the required, numbered instructions in this notebook.\n",
        "\n",
        "To earn a score of \"3\", also do all the stretch goals.\n",
        "\n",
        "You are permitted and encouraged to do as much data exploration as you want."
      ]
    },
    {
      "cell_type": "markdown",
      "metadata": {
        "id": "20OITf58NLQh",
        "colab_type": "text"
      },
      "source": [
        "### Part 1, Classification\n",
        "- 1.1. Do train/test split. Arrange data into X features matrix and y target vector\n",
        "- 1.2. Use scikit-learn to fit a logistic regression model\n",
        "- 1.3. Report classification metric: accuracy\n",
        "\n",
        "### Part 2, Regression\n",
        "- 2.1. Begin with baselines for regression\n",
        "- 2.2. Do train/validate/test split\n",
        "- 2.3. Arrange data into X features matrix and y target vector\n",
        "- 2.4. Do one-hot encoding\n",
        "- 2.5. Use scikit-learn to fit a linear regression or ridge regression model\n",
        "- 2.6. Report validation MAE and $R^2$\n",
        "\n",
        "### Stretch Goals, Regression\n",
        "- Make at least 2 visualizations to explore relationships between features and target. You may use any visualization library\n",
        "- Try at least 3 feature combinations. You may select features manually, or automatically\n",
        "- Report validation MAE and $R^2$ for each feature combination you try\n",
        "- Report test MAE and $R^2$ for your final model\n",
        "- Print or plot the coefficients for the features in your model"
      ]
    },
    {
      "cell_type": "code",
      "metadata": {
        "id": "BxoFSeX5OX5k",
        "colab_type": "code",
        "colab": {}
      },
      "source": [
        "%%capture\n",
        "# If you're in Colab...\n",
        "import sys\n",
        "if 'google.colab' in sys.modules:\n",
        "    !pip install category_encoders==2.*\n",
        "    !pip install pandas-profiling==2.*\n",
        "    !pip install plotly==4.*"
      ],
      "execution_count": 1,
      "outputs": []
    },
    {
      "cell_type": "markdown",
      "metadata": {
        "id": "Q7u1KtsnOi78",
        "colab_type": "text"
      },
      "source": [
        "# Part 1, Classification: Predict Blood Donations 🚑\n",
        "Our dataset is from a mobile blood donation vehicle in Taiwan. The Blood Transfusion Service Center drives to different universities and collects blood as part of a blood drive.\n",
        "\n",
        "The goal is to predict whether the donor made a donation in March 2007, using information about each donor's history.\n",
        "\n",
        "Good data-driven systems for tracking and predicting donations and supply needs can improve the entire supply chain, making sure that more patients get the blood transfusions they need."
      ]
    },
    {
      "cell_type": "code",
      "metadata": {
        "id": "gJzpgv-fO4rh",
        "colab_type": "code",
        "colab": {}
      },
      "source": [
        "import pandas as pd\n",
        "\n",
        "donors = pd.read_csv('https://archive.ics.uci.edu/ml/machine-learning-databases/blood-transfusion/transfusion.data')\n",
        "assert donors.shape == (748,5)\n",
        "\n",
        "donors = donors.rename(columns={\n",
        "    'Recency (months)': 'months_since_last_donation', \n",
        "    'Frequency (times)': 'number_of_donations', \n",
        "    'Monetary (c.c. blood)': 'total_volume_donated', \n",
        "    'Time (months)': 'months_since_first_donation', \n",
        "    'whether he/she donated blood in March 2007': 'made_donation_in_march_2007'\n",
        "})"
      ],
      "execution_count": 2,
      "outputs": []
    },
    {
      "cell_type": "markdown",
      "metadata": {
        "id": "oU4oE0LJMG7X",
        "colab_type": "text"
      },
      "source": [
        "Notice that the majority class (did not donate blood in March 2007) occurs about 3/4 of the time. \n",
        "\n",
        "This is the accuracy score for the \"majority class baseline\" (the accuracy score we'd get by just guessing the majority class every time)."
      ]
    },
    {
      "cell_type": "code",
      "metadata": {
        "id": "TgRp5slvLzJs",
        "colab_type": "code",
        "colab": {
          "base_uri": "https://localhost:8080/",
          "height": 68
        },
        "outputId": "962f9afe-5c2b-46c4-8334-40021ede40c8"
      },
      "source": [
        "donors['made_donation_in_march_2007'].value_counts(normalize=True)"
      ],
      "execution_count": 3,
      "outputs": [
        {
          "output_type": "execute_result",
          "data": {
            "text/plain": [
              "0    0.762032\n",
              "1    0.237968\n",
              "Name: made_donation_in_march_2007, dtype: float64"
            ]
          },
          "metadata": {
            "tags": []
          },
          "execution_count": 3
        }
      ]
    },
    {
      "cell_type": "markdown",
      "metadata": {
        "id": "P66Fpcq1PYZl",
        "colab_type": "text"
      },
      "source": [
        "## 1.1. Do train/test split. Arrange data into X features matrix and y target vector\n",
        "\n",
        "Do these steps in either order.\n",
        "\n",
        "Use scikit-learn's train/test split function to split randomly. (You can include 75% of the data in the train set, and hold out 25% for the test set, which is the default.)"
      ]
    },
    {
      "cell_type": "code",
      "metadata": {
        "id": "yxXT7tapTwGf",
        "colab_type": "code",
        "colab": {}
      },
      "source": [
        "# TODO YOUR CODE HERE\n",
        "from sklearn.model_selection import train_test_split"
      ],
      "execution_count": 4,
      "outputs": []
    },
    {
      "cell_type": "code",
      "metadata": {
        "id": "AiplnTYyezYh",
        "colab_type": "code",
        "colab": {}
      },
      "source": [
        "train, test = train_test_split(donors, test_size=0.25)"
      ],
      "execution_count": 5,
      "outputs": []
    },
    {
      "cell_type": "code",
      "metadata": {
        "id": "yaBIfdfaezRC",
        "colab_type": "code",
        "colab": {
          "base_uri": "https://localhost:8080/",
          "height": 34
        },
        "outputId": "9b1d3b8c-81fb-4a0c-917e-cae81ef00eaf"
      },
      "source": [
        "train.shape, test.shape"
      ],
      "execution_count": 6,
      "outputs": [
        {
          "output_type": "execute_result",
          "data": {
            "text/plain": [
              "((561, 5), (187, 5))"
            ]
          },
          "metadata": {
            "tags": []
          },
          "execution_count": 6
        }
      ]
    },
    {
      "cell_type": "code",
      "metadata": {
        "id": "DxipK_Hdfwr9",
        "colab_type": "code",
        "colab": {}
      },
      "source": [
        "target = 'made_donation_in_march_2007'"
      ],
      "execution_count": 7,
      "outputs": []
    },
    {
      "cell_type": "code",
      "metadata": {
        "id": "o7BVnGxCjMuc",
        "colab_type": "code",
        "colab": {}
      },
      "source": [
        "y_train = train[target]\n",
        "y_test = test[target]"
      ],
      "execution_count": 8,
      "outputs": []
    },
    {
      "cell_type": "code",
      "metadata": {
        "id": "tMc7IcNZgH9u",
        "colab_type": "code",
        "colab": {}
      },
      "source": [
        "features = ['months_since_first_donation',  'total_volume_donated', 'number_of_donations', \n",
        "            'months_since_last_donation']"
      ],
      "execution_count": 9,
      "outputs": []
    },
    {
      "cell_type": "code",
      "metadata": {
        "id": "av-eyO38jP0l",
        "colab_type": "code",
        "colab": {}
      },
      "source": [
        "X_train = train[features]\n",
        "X_test = test[features]"
      ],
      "execution_count": 10,
      "outputs": []
    },
    {
      "cell_type": "markdown",
      "metadata": {
        "id": "ln9fqAghRmQT",
        "colab_type": "text"
      },
      "source": [
        "## 1.2. Use scikit-learn to fit a logistic regression model\n",
        "\n",
        "You may use any number of features"
      ]
    },
    {
      "cell_type": "code",
      "metadata": {
        "id": "1WXwu2gBTy81",
        "colab_type": "code",
        "colab": {}
      },
      "source": [
        "# TODO YOUR CODE HERE\n",
        "\n",
        "train, val = train_test_split(train, random_state=42)"
      ],
      "execution_count": 11,
      "outputs": []
    },
    {
      "cell_type": "code",
      "metadata": {
        "id": "fNQQvJGskxnT",
        "colab_type": "code",
        "colab": {
          "base_uri": "https://localhost:8080/",
          "height": 34
        },
        "outputId": "28115be8-0bca-4be5-da82-965fa8915cd2"
      },
      "source": [
        "X_train = train[features]\n",
        "y_train = train[target]\n",
        "\n",
        "X_val = val[features]\n",
        "y_val = val[target]\n",
        "\n",
        "X_train.shape, y_train.shape, X_val.shape, y_val.shape"
      ],
      "execution_count": 12,
      "outputs": [
        {
          "output_type": "execute_result",
          "data": {
            "text/plain": [
              "((420, 4), (420,), (141, 4), (141,))"
            ]
          },
          "metadata": {
            "tags": []
          },
          "execution_count": 12
        }
      ]
    },
    {
      "cell_type": "code",
      "metadata": {
        "id": "K9AMsqRolRoG",
        "colab_type": "code",
        "colab": {
          "base_uri": "https://localhost:8080/",
          "height": 71
        },
        "outputId": "954749a3-4ffc-41fc-c833-4d0f546bd2e3"
      },
      "source": [
        "import category_encoders as ce\n",
        "from sklearn.impute import SimpleImputer\n",
        "from sklearn.linear_model import LogisticRegression\n",
        "from sklearn.preprocessing import StandardScaler\n",
        "from sklearn.metrics import accuracy_score"
      ],
      "execution_count": 13,
      "outputs": [
        {
          "output_type": "stream",
          "text": [
            "/usr/local/lib/python3.6/dist-packages/statsmodels/tools/_testing.py:19: FutureWarning: pandas.util.testing is deprecated. Use the functions in the public API at pandas.testing instead.\n",
            "  import pandas.util.testing as tm\n"
          ],
          "name": "stderr"
        }
      ]
    },
    {
      "cell_type": "code",
      "metadata": {
        "id": "-PIH4rGhlzZ3",
        "colab_type": "code",
        "colab": {
          "base_uri": "https://localhost:8080/",
          "height": 204
        },
        "outputId": "c25c3969-a916-4c98-bb34-1b99e4435c37"
      },
      "source": [
        "encoder = ce.OneHotEncoder(use_cat_names=True)\n",
        "X_train_encoded = encoder.fit_transform(X_train)\n",
        "X_val_encoded = encoder.transform(X_val)\n",
        "\n",
        "X_train_encoded.head()"
      ],
      "execution_count": 14,
      "outputs": [
        {
          "output_type": "execute_result",
          "data": {
            "text/html": [
              "<div>\n",
              "<style scoped>\n",
              "    .dataframe tbody tr th:only-of-type {\n",
              "        vertical-align: middle;\n",
              "    }\n",
              "\n",
              "    .dataframe tbody tr th {\n",
              "        vertical-align: top;\n",
              "    }\n",
              "\n",
              "    .dataframe thead th {\n",
              "        text-align: right;\n",
              "    }\n",
              "</style>\n",
              "<table border=\"1\" class=\"dataframe\">\n",
              "  <thead>\n",
              "    <tr style=\"text-align: right;\">\n",
              "      <th></th>\n",
              "      <th>months_since_first_donation</th>\n",
              "      <th>total_volume_donated</th>\n",
              "      <th>number_of_donations</th>\n",
              "      <th>months_since_last_donation</th>\n",
              "    </tr>\n",
              "  </thead>\n",
              "  <tbody>\n",
              "    <tr>\n",
              "      <th>736</th>\n",
              "      <td>23</td>\n",
              "      <td>250</td>\n",
              "      <td>1</td>\n",
              "      <td>23</td>\n",
              "    </tr>\n",
              "    <tr>\n",
              "      <th>195</th>\n",
              "      <td>47</td>\n",
              "      <td>1250</td>\n",
              "      <td>5</td>\n",
              "      <td>2</td>\n",
              "    </tr>\n",
              "    <tr>\n",
              "      <th>599</th>\n",
              "      <td>39</td>\n",
              "      <td>2750</td>\n",
              "      <td>11</td>\n",
              "      <td>12</td>\n",
              "    </tr>\n",
              "    <tr>\n",
              "      <th>740</th>\n",
              "      <td>23</td>\n",
              "      <td>250</td>\n",
              "      <td>1</td>\n",
              "      <td>23</td>\n",
              "    </tr>\n",
              "    <tr>\n",
              "      <th>110</th>\n",
              "      <td>23</td>\n",
              "      <td>1250</td>\n",
              "      <td>5</td>\n",
              "      <td>4</td>\n",
              "    </tr>\n",
              "  </tbody>\n",
              "</table>\n",
              "</div>"
            ],
            "text/plain": [
              "     months_since_first_donation  ...  months_since_last_donation\n",
              "736                           23  ...                          23\n",
              "195                           47  ...                           2\n",
              "599                           39  ...                          12\n",
              "740                           23  ...                          23\n",
              "110                           23  ...                           4\n",
              "\n",
              "[5 rows x 4 columns]"
            ]
          },
          "metadata": {
            "tags": []
          },
          "execution_count": 14
        }
      ]
    },
    {
      "cell_type": "code",
      "metadata": {
        "id": "LFPyLKxJiyde",
        "colab_type": "code",
        "colab": {}
      },
      "source": [
        "imputer = SimpleImputer(strategy='mean')\n",
        "X_train_imputed = imputer.fit_transform(X_train)\n",
        "X_val_imputed = imputer.transform(X_val)"
      ],
      "execution_count": 15,
      "outputs": []
    },
    {
      "cell_type": "code",
      "metadata": {
        "id": "XIdjC1UZmBDO",
        "colab_type": "code",
        "colab": {}
      },
      "source": [
        "scaler = StandardScaler()\n",
        "X_train_scaled = scaler.fit_transform(X_train_imputed)\n",
        "X_val_scaled = scaler.transform(X_val_imputed)"
      ],
      "execution_count": 16,
      "outputs": []
    },
    {
      "cell_type": "code",
      "metadata": {
        "id": "AoGD1VakljHx",
        "colab_type": "code",
        "colab": {}
      },
      "source": [
        "model = LogisticRegression()"
      ],
      "execution_count": 17,
      "outputs": []
    },
    {
      "cell_type": "code",
      "metadata": {
        "id": "qy81-jKmlmTF",
        "colab_type": "code",
        "colab": {}
      },
      "source": [
        "model.fit(X_train_scaled, y_train)\n",
        "y_pred = model.predict(X_val_scaled)"
      ],
      "execution_count": 18,
      "outputs": []
    },
    {
      "cell_type": "markdown",
      "metadata": {
        "id": "Ah6EhiRVSusy",
        "colab_type": "text"
      },
      "source": [
        "## 1.3. Report classification metric: accuracy\n",
        "\n",
        "What is your model's accuracy on the test set?\n",
        "\n",
        "Don't worry if your model doesn't beat the majority class baseline. That's okay!\n",
        "\n",
        "_\"The combination of some data and an aching desire for an answer does not ensure that a reasonable answer can be extracted from a given body of data.\"_ —[John Tukey](https://en.wikiquote.org/wiki/John_Tukey)\n",
        "\n",
        "(Also, if we used recall score instead of accuracy score, then your model would almost certainly beat the baseline. We'll discuss how to choose and interpret evaluation metrics throughout this unit.)\n",
        "\n"
      ]
    },
    {
      "cell_type": "code",
      "metadata": {
        "id": "T4z_b7PZT3u_",
        "colab_type": "code",
        "colab": {
          "base_uri": "https://localhost:8080/",
          "height": 34
        },
        "outputId": "660037a5-65f7-44f0-c3ee-60e3125ebe4b"
      },
      "source": [
        "# TODO YOUR CODE HERE\n",
        "accuracy_score(y_val, y_pred)"
      ],
      "execution_count": 19,
      "outputs": [
        {
          "output_type": "execute_result",
          "data": {
            "text/plain": [
              "0.7588652482269503"
            ]
          },
          "metadata": {
            "tags": []
          },
          "execution_count": 19
        }
      ]
    },
    {
      "cell_type": "markdown",
      "metadata": {
        "id": "xDmZn3ApOM7t",
        "colab_type": "text"
      },
      "source": [
        "# Part 2, Regression: Predict home prices in Ames, Iowa 🏠\n",
        "\n",
        "You'll use historical housing data. ***There's a data dictionary at the bottom of the notebook.*** \n",
        "\n",
        "Run this code cell to load the dataset:\n",
        "\n",
        "\n",
        "\n"
      ]
    },
    {
      "cell_type": "code",
      "metadata": {
        "id": "7ptoRG1lu7H4",
        "colab_type": "code",
        "colab": {}
      },
      "source": [
        "import pandas as pd\n",
        "URL = 'https://drive.google.com/uc?export=download&id=1522WlEW6HFss36roD_Cd9nybqSuiVcCK'\n",
        "homes = pd.read_csv(URL)\n",
        "assert homes.shape == (2904, 47)"
      ],
      "execution_count": 20,
      "outputs": []
    },
    {
      "cell_type": "markdown",
      "metadata": {
        "id": "CowG-cgZ5ZrB",
        "colab_type": "text"
      },
      "source": [
        "## 2.1. Begin with baselines\n",
        "\n",
        "What is the Mean Absolute Error and R^2 score for a mean baseline? (You can get these estimated scores using all your data, before splitting it.)"
      ]
    },
    {
      "cell_type": "code",
      "metadata": {
        "id": "TbahVr-j5ZLs",
        "colab_type": "code",
        "colab": {
          "base_uri": "https://localhost:8080/",
          "height": 224
        },
        "outputId": "860faec9-f06b-4e8a-a717-793bd359fea8"
      },
      "source": [
        "# TODO YOUR CODE HERE\n",
        "homes.head()"
      ],
      "execution_count": 21,
      "outputs": [
        {
          "output_type": "execute_result",
          "data": {
            "text/html": [
              "<div>\n",
              "<style scoped>\n",
              "    .dataframe tbody tr th:only-of-type {\n",
              "        vertical-align: middle;\n",
              "    }\n",
              "\n",
              "    .dataframe tbody tr th {\n",
              "        vertical-align: top;\n",
              "    }\n",
              "\n",
              "    .dataframe thead th {\n",
              "        text-align: right;\n",
              "    }\n",
              "</style>\n",
              "<table border=\"1\" class=\"dataframe\">\n",
              "  <thead>\n",
              "    <tr style=\"text-align: right;\">\n",
              "      <th></th>\n",
              "      <th>1st_Flr_SF</th>\n",
              "      <th>Bedroom_AbvGr</th>\n",
              "      <th>Bldg_Type</th>\n",
              "      <th>Bsmt_Full_Bath</th>\n",
              "      <th>Bsmt_Half_Bath</th>\n",
              "      <th>Central_Air</th>\n",
              "      <th>Condition_1</th>\n",
              "      <th>Condition_2</th>\n",
              "      <th>Electrical</th>\n",
              "      <th>Exter_Cond</th>\n",
              "      <th>Exter_Qual</th>\n",
              "      <th>Exterior_1st</th>\n",
              "      <th>Exterior_2nd</th>\n",
              "      <th>Foundation</th>\n",
              "      <th>Full_Bath</th>\n",
              "      <th>Functional</th>\n",
              "      <th>Gr_Liv_Area</th>\n",
              "      <th>Half_Bath</th>\n",
              "      <th>Heating</th>\n",
              "      <th>Heating_QC</th>\n",
              "      <th>House_Style</th>\n",
              "      <th>Kitchen_AbvGr</th>\n",
              "      <th>Kitchen_Qual</th>\n",
              "      <th>Land_Contour</th>\n",
              "      <th>Land_Slope</th>\n",
              "      <th>Lot_Area</th>\n",
              "      <th>Lot_Config</th>\n",
              "      <th>Lot_Shape</th>\n",
              "      <th>MS_SubClass</th>\n",
              "      <th>MS_Zoning</th>\n",
              "      <th>Mas_Vnr_Type</th>\n",
              "      <th>Mo_Sold</th>\n",
              "      <th>Neighborhood</th>\n",
              "      <th>Overall_Cond</th>\n",
              "      <th>Overall_Qual</th>\n",
              "      <th>Paved_Drive</th>\n",
              "      <th>Roof_Matl</th>\n",
              "      <th>Roof_Style</th>\n",
              "      <th>SalePrice</th>\n",
              "      <th>Sale_Condition</th>\n",
              "      <th>Sale_Type</th>\n",
              "      <th>Street</th>\n",
              "      <th>TotRms_AbvGrd</th>\n",
              "      <th>Utilities</th>\n",
              "      <th>Year_Built</th>\n",
              "      <th>Year_Remod/Add</th>\n",
              "      <th>Yr_Sold</th>\n",
              "    </tr>\n",
              "  </thead>\n",
              "  <tbody>\n",
              "    <tr>\n",
              "      <th>0</th>\n",
              "      <td>1656</td>\n",
              "      <td>3</td>\n",
              "      <td>1Fam</td>\n",
              "      <td>1.0</td>\n",
              "      <td>0.0</td>\n",
              "      <td>Y</td>\n",
              "      <td>Norm</td>\n",
              "      <td>Norm</td>\n",
              "      <td>SBrkr</td>\n",
              "      <td>TA</td>\n",
              "      <td>TA</td>\n",
              "      <td>BrkFace</td>\n",
              "      <td>Plywood</td>\n",
              "      <td>CBlock</td>\n",
              "      <td>1</td>\n",
              "      <td>Typ</td>\n",
              "      <td>1656</td>\n",
              "      <td>0</td>\n",
              "      <td>GasA</td>\n",
              "      <td>Fa</td>\n",
              "      <td>1Story</td>\n",
              "      <td>1</td>\n",
              "      <td>TA</td>\n",
              "      <td>Lvl</td>\n",
              "      <td>Gtl</td>\n",
              "      <td>31770</td>\n",
              "      <td>Corner</td>\n",
              "      <td>IR1</td>\n",
              "      <td>20</td>\n",
              "      <td>RL</td>\n",
              "      <td>Stone</td>\n",
              "      <td>5</td>\n",
              "      <td>NAmes</td>\n",
              "      <td>5</td>\n",
              "      <td>6</td>\n",
              "      <td>P</td>\n",
              "      <td>CompShg</td>\n",
              "      <td>Hip</td>\n",
              "      <td>215000</td>\n",
              "      <td>Normal</td>\n",
              "      <td>WD</td>\n",
              "      <td>Pave</td>\n",
              "      <td>7</td>\n",
              "      <td>AllPub</td>\n",
              "      <td>1960</td>\n",
              "      <td>1960</td>\n",
              "      <td>2010</td>\n",
              "    </tr>\n",
              "    <tr>\n",
              "      <th>1</th>\n",
              "      <td>896</td>\n",
              "      <td>2</td>\n",
              "      <td>1Fam</td>\n",
              "      <td>0.0</td>\n",
              "      <td>0.0</td>\n",
              "      <td>Y</td>\n",
              "      <td>Feedr</td>\n",
              "      <td>Norm</td>\n",
              "      <td>SBrkr</td>\n",
              "      <td>TA</td>\n",
              "      <td>TA</td>\n",
              "      <td>VinylSd</td>\n",
              "      <td>VinylSd</td>\n",
              "      <td>CBlock</td>\n",
              "      <td>1</td>\n",
              "      <td>Typ</td>\n",
              "      <td>896</td>\n",
              "      <td>0</td>\n",
              "      <td>GasA</td>\n",
              "      <td>TA</td>\n",
              "      <td>1Story</td>\n",
              "      <td>1</td>\n",
              "      <td>TA</td>\n",
              "      <td>Lvl</td>\n",
              "      <td>Gtl</td>\n",
              "      <td>11622</td>\n",
              "      <td>Inside</td>\n",
              "      <td>Reg</td>\n",
              "      <td>20</td>\n",
              "      <td>RH</td>\n",
              "      <td>None</td>\n",
              "      <td>6</td>\n",
              "      <td>NAmes</td>\n",
              "      <td>6</td>\n",
              "      <td>5</td>\n",
              "      <td>Y</td>\n",
              "      <td>CompShg</td>\n",
              "      <td>Gable</td>\n",
              "      <td>105000</td>\n",
              "      <td>Normal</td>\n",
              "      <td>WD</td>\n",
              "      <td>Pave</td>\n",
              "      <td>5</td>\n",
              "      <td>AllPub</td>\n",
              "      <td>1961</td>\n",
              "      <td>1961</td>\n",
              "      <td>2010</td>\n",
              "    </tr>\n",
              "    <tr>\n",
              "      <th>2</th>\n",
              "      <td>1329</td>\n",
              "      <td>3</td>\n",
              "      <td>1Fam</td>\n",
              "      <td>0.0</td>\n",
              "      <td>0.0</td>\n",
              "      <td>Y</td>\n",
              "      <td>Norm</td>\n",
              "      <td>Norm</td>\n",
              "      <td>SBrkr</td>\n",
              "      <td>TA</td>\n",
              "      <td>TA</td>\n",
              "      <td>Wd Sdng</td>\n",
              "      <td>Wd Sdng</td>\n",
              "      <td>CBlock</td>\n",
              "      <td>1</td>\n",
              "      <td>Typ</td>\n",
              "      <td>1329</td>\n",
              "      <td>1</td>\n",
              "      <td>GasA</td>\n",
              "      <td>TA</td>\n",
              "      <td>1Story</td>\n",
              "      <td>1</td>\n",
              "      <td>Gd</td>\n",
              "      <td>Lvl</td>\n",
              "      <td>Gtl</td>\n",
              "      <td>14267</td>\n",
              "      <td>Corner</td>\n",
              "      <td>IR1</td>\n",
              "      <td>20</td>\n",
              "      <td>RL</td>\n",
              "      <td>BrkFace</td>\n",
              "      <td>6</td>\n",
              "      <td>NAmes</td>\n",
              "      <td>6</td>\n",
              "      <td>6</td>\n",
              "      <td>Y</td>\n",
              "      <td>CompShg</td>\n",
              "      <td>Hip</td>\n",
              "      <td>172000</td>\n",
              "      <td>Normal</td>\n",
              "      <td>WD</td>\n",
              "      <td>Pave</td>\n",
              "      <td>6</td>\n",
              "      <td>AllPub</td>\n",
              "      <td>1958</td>\n",
              "      <td>1958</td>\n",
              "      <td>2010</td>\n",
              "    </tr>\n",
              "    <tr>\n",
              "      <th>3</th>\n",
              "      <td>2110</td>\n",
              "      <td>3</td>\n",
              "      <td>1Fam</td>\n",
              "      <td>1.0</td>\n",
              "      <td>0.0</td>\n",
              "      <td>Y</td>\n",
              "      <td>Norm</td>\n",
              "      <td>Norm</td>\n",
              "      <td>SBrkr</td>\n",
              "      <td>TA</td>\n",
              "      <td>Gd</td>\n",
              "      <td>BrkFace</td>\n",
              "      <td>BrkFace</td>\n",
              "      <td>CBlock</td>\n",
              "      <td>2</td>\n",
              "      <td>Typ</td>\n",
              "      <td>2110</td>\n",
              "      <td>1</td>\n",
              "      <td>GasA</td>\n",
              "      <td>Ex</td>\n",
              "      <td>1Story</td>\n",
              "      <td>1</td>\n",
              "      <td>Ex</td>\n",
              "      <td>Lvl</td>\n",
              "      <td>Gtl</td>\n",
              "      <td>11160</td>\n",
              "      <td>Corner</td>\n",
              "      <td>Reg</td>\n",
              "      <td>20</td>\n",
              "      <td>RL</td>\n",
              "      <td>None</td>\n",
              "      <td>4</td>\n",
              "      <td>NAmes</td>\n",
              "      <td>5</td>\n",
              "      <td>7</td>\n",
              "      <td>Y</td>\n",
              "      <td>CompShg</td>\n",
              "      <td>Hip</td>\n",
              "      <td>244000</td>\n",
              "      <td>Normal</td>\n",
              "      <td>WD</td>\n",
              "      <td>Pave</td>\n",
              "      <td>8</td>\n",
              "      <td>AllPub</td>\n",
              "      <td>1968</td>\n",
              "      <td>1968</td>\n",
              "      <td>2010</td>\n",
              "    </tr>\n",
              "    <tr>\n",
              "      <th>4</th>\n",
              "      <td>928</td>\n",
              "      <td>3</td>\n",
              "      <td>1Fam</td>\n",
              "      <td>0.0</td>\n",
              "      <td>0.0</td>\n",
              "      <td>Y</td>\n",
              "      <td>Norm</td>\n",
              "      <td>Norm</td>\n",
              "      <td>SBrkr</td>\n",
              "      <td>TA</td>\n",
              "      <td>TA</td>\n",
              "      <td>VinylSd</td>\n",
              "      <td>VinylSd</td>\n",
              "      <td>PConc</td>\n",
              "      <td>2</td>\n",
              "      <td>Typ</td>\n",
              "      <td>1629</td>\n",
              "      <td>1</td>\n",
              "      <td>GasA</td>\n",
              "      <td>Gd</td>\n",
              "      <td>2Story</td>\n",
              "      <td>1</td>\n",
              "      <td>TA</td>\n",
              "      <td>Lvl</td>\n",
              "      <td>Gtl</td>\n",
              "      <td>13830</td>\n",
              "      <td>Inside</td>\n",
              "      <td>IR1</td>\n",
              "      <td>60</td>\n",
              "      <td>RL</td>\n",
              "      <td>None</td>\n",
              "      <td>3</td>\n",
              "      <td>Gilbert</td>\n",
              "      <td>5</td>\n",
              "      <td>5</td>\n",
              "      <td>Y</td>\n",
              "      <td>CompShg</td>\n",
              "      <td>Gable</td>\n",
              "      <td>189900</td>\n",
              "      <td>Normal</td>\n",
              "      <td>WD</td>\n",
              "      <td>Pave</td>\n",
              "      <td>6</td>\n",
              "      <td>AllPub</td>\n",
              "      <td>1997</td>\n",
              "      <td>1998</td>\n",
              "      <td>2010</td>\n",
              "    </tr>\n",
              "  </tbody>\n",
              "</table>\n",
              "</div>"
            ],
            "text/plain": [
              "   1st_Flr_SF  Bedroom_AbvGr Bldg_Type  ...  Year_Built  Year_Remod/Add Yr_Sold\n",
              "0        1656              3      1Fam  ...        1960            1960    2010\n",
              "1         896              2      1Fam  ...        1961            1961    2010\n",
              "2        1329              3      1Fam  ...        1958            1958    2010\n",
              "3        2110              3      1Fam  ...        1968            1968    2010\n",
              "4         928              3      1Fam  ...        1997            1998    2010\n",
              "\n",
              "[5 rows x 47 columns]"
            ]
          },
          "metadata": {
            "tags": []
          },
          "execution_count": 21
        }
      ]
    },
    {
      "cell_type": "code",
      "metadata": {
        "id": "t7_ylAftptN-",
        "colab_type": "code",
        "colab": {}
      },
      "source": [
        "from sklearn.metrics import mean_absolute_error"
      ],
      "execution_count": 22,
      "outputs": []
    },
    {
      "cell_type": "code",
      "metadata": {
        "id": "iotlndlB8OBe",
        "colab_type": "code",
        "colab": {
          "base_uri": "https://localhost:8080/",
          "height": 340
        },
        "outputId": "40b62302-c147-47f9-a8a1-e47f1bb64eb0"
      },
      "source": [
        "homes.mean()"
      ],
      "execution_count": 23,
      "outputs": [
        {
          "output_type": "execute_result",
          "data": {
            "text/plain": [
              "1st_Flr_SF          1158.257231\n",
              "Bedroom_AbvGr          2.854339\n",
              "Bsmt_Full_Bath         0.431474\n",
              "Bsmt_Half_Bath         0.061639\n",
              "Full_Bath              1.562328\n",
              "Gr_Liv_Area         1497.853650\n",
              "Half_Bath              0.376722\n",
              "Kitchen_AbvGr          1.044421\n",
              "Lot_Area           10130.199725\n",
              "MS_SubClass           57.474174\n",
              "Mo_Sold                6.206956\n",
              "Overall_Cond           5.567149\n",
              "Overall_Qual           6.086777\n",
              "SalePrice         180383.689738\n",
              "TotRms_AbvGrd          6.441804\n",
              "Year_Built          1971.109504\n",
              "Year_Remod/Add      1984.112259\n",
              "Yr_Sold             2007.792011\n",
              "dtype: float64"
            ]
          },
          "metadata": {
            "tags": []
          },
          "execution_count": 23
        }
      ]
    },
    {
      "cell_type": "code",
      "metadata": {
        "id": "omDXdXbCqSJO",
        "colab_type": "code",
        "colab": {
          "base_uri": "https://localhost:8080/",
          "height": 170
        },
        "outputId": "dffd586f-9496-4781-ff5e-5c596b6925f9"
      },
      "source": [
        "homes['Yr_Sold'].describe()"
      ],
      "execution_count": 24,
      "outputs": [
        {
          "output_type": "execute_result",
          "data": {
            "text/plain": [
              "count    2904.000000\n",
              "mean     2007.792011\n",
              "std         1.318719\n",
              "min      2006.000000\n",
              "25%      2007.000000\n",
              "50%      2008.000000\n",
              "75%      2009.000000\n",
              "max      2010.000000\n",
              "Name: Yr_Sold, dtype: float64"
            ]
          },
          "metadata": {
            "tags": []
          },
          "execution_count": 24
        }
      ]
    },
    {
      "cell_type": "markdown",
      "metadata": {
        "id": "yqeiq1wvyrTq",
        "colab_type": "text"
      },
      "source": [
        "## 2.2. Do train/validate/test split\n",
        "\n",
        "Train on houses sold in the years 2006 - 2008. (1,920 rows)\n",
        "\n",
        "Validate on house sold in 2009. (644 rows)\n",
        "\n",
        "Test on houses sold in 2010. (340 rows)"
      ]
    },
    {
      "cell_type": "code",
      "metadata": {
        "id": "WKFjWLI3w0P_",
        "colab_type": "code",
        "colab": {}
      },
      "source": [
        "# TODO YOUR CODE HERE\n",
        "train = homes[homes['Yr_Sold']<= 2008]\n",
        "val = homes[homes['Yr_Sold'] == 2009]\n",
        "test = homes[homes['Yr_Sold'] >= 2010]"
      ],
      "execution_count": 25,
      "outputs": []
    },
    {
      "cell_type": "code",
      "metadata": {
        "id": "SYTks7Glug3z",
        "colab_type": "code",
        "colab": {
          "base_uri": "https://localhost:8080/",
          "height": 34
        },
        "outputId": "78b30ae1-70a8-444a-8878-8ab892bdba3c"
      },
      "source": [
        "train.shape"
      ],
      "execution_count": 26,
      "outputs": [
        {
          "output_type": "execute_result",
          "data": {
            "text/plain": [
              "(1920, 47)"
            ]
          },
          "metadata": {
            "tags": []
          },
          "execution_count": 26
        }
      ]
    },
    {
      "cell_type": "markdown",
      "metadata": {
        "id": "hk1bYDJy6txq",
        "colab_type": "text"
      },
      "source": [
        "## 2.3. Arrange data into X features matrix and y target vector\n",
        "\n",
        "Select at least one numeric feature and at least one categorical feature.\n",
        "\n",
        "Otherwise, you may choose whichever features and however many you want."
      ]
    },
    {
      "cell_type": "code",
      "metadata": {
        "id": "593Ko1S36svD",
        "colab_type": "code",
        "colab": {}
      },
      "source": [
        "# TODO YOUR CODE HERE\n",
        "target = 'SalePrice'\n",
        "features = ['Overall_Qual', '1st_Flr_SF', 'Bldg_Type', 'Central_Air']"
      ],
      "execution_count": 27,
      "outputs": []
    },
    {
      "cell_type": "code",
      "metadata": {
        "id": "jgkdEaukz5Zu",
        "colab_type": "code",
        "colab": {}
      },
      "source": [
        "X_train = train[features]\n",
        "y_train = train[target]\n",
        "\n",
        "X_val = val[features]\n",
        "y_val = val[target]\n",
        "\n",
        "X_test = test[features]\n",
        "y_test = test[target]"
      ],
      "execution_count": 28,
      "outputs": []
    },
    {
      "cell_type": "markdown",
      "metadata": {
        "id": "zDT-gSl_-Gwh",
        "colab_type": "text"
      },
      "source": [
        "## 2.4. Do one-hot encoding\n",
        "\n",
        "Encode your categorical feature(s)."
      ]
    },
    {
      "cell_type": "code",
      "metadata": {
        "id": "iqRywy6M7Jcr",
        "colab_type": "code",
        "colab": {
          "base_uri": "https://localhost:8080/",
          "height": 224
        },
        "outputId": "f2fe8459-6f95-44f9-e35d-961a9f15c371"
      },
      "source": [
        "# TODO YOUR CODE HERE\n",
        "encoder = ce.OneHotEncoder(use_cat_names=True)\n",
        "X_train_encoded = encoder.fit_transform(X_train)\n",
        "X_val_encoded = encoder.transform(X_val)\n",
        "\n",
        "X_train_encoded.head()"
      ],
      "execution_count": 29,
      "outputs": [
        {
          "output_type": "execute_result",
          "data": {
            "text/html": [
              "<div>\n",
              "<style scoped>\n",
              "    .dataframe tbody tr th:only-of-type {\n",
              "        vertical-align: middle;\n",
              "    }\n",
              "\n",
              "    .dataframe tbody tr th {\n",
              "        vertical-align: top;\n",
              "    }\n",
              "\n",
              "    .dataframe thead th {\n",
              "        text-align: right;\n",
              "    }\n",
              "</style>\n",
              "<table border=\"1\" class=\"dataframe\">\n",
              "  <thead>\n",
              "    <tr style=\"text-align: right;\">\n",
              "      <th></th>\n",
              "      <th>Overall_Qual</th>\n",
              "      <th>1st_Flr_SF</th>\n",
              "      <th>Bldg_Type_1Fam</th>\n",
              "      <th>Bldg_Type_TwnhsE</th>\n",
              "      <th>Bldg_Type_Duplex</th>\n",
              "      <th>Bldg_Type_Twnhs</th>\n",
              "      <th>Bldg_Type_2fmCon</th>\n",
              "      <th>Central_Air_Y</th>\n",
              "      <th>Central_Air_N</th>\n",
              "    </tr>\n",
              "  </thead>\n",
              "  <tbody>\n",
              "    <tr>\n",
              "      <th>984</th>\n",
              "      <td>6</td>\n",
              "      <td>1414</td>\n",
              "      <td>1</td>\n",
              "      <td>0</td>\n",
              "      <td>0</td>\n",
              "      <td>0</td>\n",
              "      <td>0</td>\n",
              "      <td>1</td>\n",
              "      <td>0</td>\n",
              "    </tr>\n",
              "    <tr>\n",
              "      <th>985</th>\n",
              "      <td>6</td>\n",
              "      <td>2117</td>\n",
              "      <td>1</td>\n",
              "      <td>0</td>\n",
              "      <td>0</td>\n",
              "      <td>0</td>\n",
              "      <td>0</td>\n",
              "      <td>1</td>\n",
              "      <td>0</td>\n",
              "    </tr>\n",
              "    <tr>\n",
              "      <th>986</th>\n",
              "      <td>6</td>\n",
              "      <td>1092</td>\n",
              "      <td>1</td>\n",
              "      <td>0</td>\n",
              "      <td>0</td>\n",
              "      <td>0</td>\n",
              "      <td>0</td>\n",
              "      <td>1</td>\n",
              "      <td>0</td>\n",
              "    </tr>\n",
              "    <tr>\n",
              "      <th>987</th>\n",
              "      <td>6</td>\n",
              "      <td>926</td>\n",
              "      <td>1</td>\n",
              "      <td>0</td>\n",
              "      <td>0</td>\n",
              "      <td>0</td>\n",
              "      <td>0</td>\n",
              "      <td>1</td>\n",
              "      <td>0</td>\n",
              "    </tr>\n",
              "    <tr>\n",
              "      <th>988</th>\n",
              "      <td>6</td>\n",
              "      <td>680</td>\n",
              "      <td>1</td>\n",
              "      <td>0</td>\n",
              "      <td>0</td>\n",
              "      <td>0</td>\n",
              "      <td>0</td>\n",
              "      <td>1</td>\n",
              "      <td>0</td>\n",
              "    </tr>\n",
              "  </tbody>\n",
              "</table>\n",
              "</div>"
            ],
            "text/plain": [
              "     Overall_Qual  1st_Flr_SF  ...  Central_Air_Y  Central_Air_N\n",
              "984             6        1414  ...              1              0\n",
              "985             6        2117  ...              1              0\n",
              "986             6        1092  ...              1              0\n",
              "987             6         926  ...              1              0\n",
              "988             6         680  ...              1              0\n",
              "\n",
              "[5 rows x 9 columns]"
            ]
          },
          "metadata": {
            "tags": []
          },
          "execution_count": 29
        }
      ]
    },
    {
      "cell_type": "markdown",
      "metadata": {
        "id": "2ZceruUx-Vs-",
        "colab_type": "text"
      },
      "source": [
        "## 2.5. Use scikit-learn to fit a linear regression or ridge regression model\n",
        "Fit your model."
      ]
    },
    {
      "cell_type": "code",
      "metadata": {
        "id": "Kvy4Z0xv7eJF",
        "colab_type": "code",
        "colab": {}
      },
      "source": [
        "# TODO YOUR CODE HERE\n",
        "from sklearn.feature_selection import SelectKBest, f_regression\n",
        "from IPython.display import display, HTML\n",
        "from sklearn.linear_model import Ridge\n",
        "from sklearn.metrics import mean_absolute_error"
      ],
      "execution_count": 30,
      "outputs": []
    },
    {
      "cell_type": "code",
      "metadata": {
        "id": "RM8qS5pB20G1",
        "colab_type": "code",
        "colab": {}
      },
      "source": [
        "selector = SelectKBest(k=9)\n",
        "\n",
        "X_train_selected = selector.fit_transform(X_train_encoded, y_train)\n",
        "X_val_selected = selector.transform(X_val_encoded)"
      ],
      "execution_count": 32,
      "outputs": []
    },
    {
      "cell_type": "code",
      "metadata": {
        "id": "3xWO0zVj6_7f",
        "colab_type": "code",
        "colab": {
          "base_uri": "https://localhost:8080/",
          "height": 85
        },
        "outputId": "c4954f80-499f-4cd6-b406-f0e5d7887908"
      },
      "source": [
        "for alpha in [.001, .01, .1, 1]:\n",
        "  display(HTML(f'Ridge Regression, with alpha = {alpha}'))\n",
        "  model = Ridge(alpha = alpha, normalize = True)\n",
        "  model.fit(X_train_selected, y_train)\n",
        "  y_pred = model.predict(X_val_selected)"
      ],
      "execution_count": 34,
      "outputs": [
        {
          "output_type": "display_data",
          "data": {
            "text/html": [
              "Ridge Regression, with alpha = 0.001"
            ],
            "text/plain": [
              "<IPython.core.display.HTML object>"
            ]
          },
          "metadata": {
            "tags": []
          }
        },
        {
          "output_type": "display_data",
          "data": {
            "text/html": [
              "Ridge Regression, with alpha = 0.01"
            ],
            "text/plain": [
              "<IPython.core.display.HTML object>"
            ]
          },
          "metadata": {
            "tags": []
          }
        },
        {
          "output_type": "display_data",
          "data": {
            "text/html": [
              "Ridge Regression, with alpha = 0.1"
            ],
            "text/plain": [
              "<IPython.core.display.HTML object>"
            ]
          },
          "metadata": {
            "tags": []
          }
        },
        {
          "output_type": "display_data",
          "data": {
            "text/html": [
              "Ridge Regression, with alpha = 1"
            ],
            "text/plain": [
              "<IPython.core.display.HTML object>"
            ]
          },
          "metadata": {
            "tags": []
          }
        }
      ]
    },
    {
      "cell_type": "markdown",
      "metadata": {
        "id": "E9reASgw-i8T",
        "colab_type": "text"
      },
      "source": [
        "## 2.6. Report validation MAE and $R^2$\n",
        "\n",
        "What is your model's Mean Absolute Error and $R^2$ score on the validation set? (You are not graded on how high or low your validation scores are.)"
      ]
    },
    {
      "cell_type": "code",
      "metadata": {
        "id": "q8GdnL4e7hyK",
        "colab_type": "code",
        "colab": {
          "base_uri": "https://localhost:8080/",
          "height": 323
        },
        "outputId": "f15e3fb4-ccfa-49db-d5f8-21a9079cc952"
      },
      "source": [
        "# TODO YOUR CODE HERE\n",
        "mae = mean_absolute_error(y_test, y_pred)"
      ],
      "execution_count": 40,
      "outputs": [
        {
          "output_type": "error",
          "ename": "ValueError",
          "evalue": "ignored",
          "traceback": [
            "\u001b[0;31m---------------------------------------------------------------------------\u001b[0m",
            "\u001b[0;31mValueError\u001b[0m                                Traceback (most recent call last)",
            "\u001b[0;32m<ipython-input-40-d9aae3099856>\u001b[0m in \u001b[0;36m<module>\u001b[0;34m()\u001b[0m\n\u001b[1;32m      1\u001b[0m \u001b[0;31m# TODO YOUR CODE HERE\u001b[0m\u001b[0;34m\u001b[0m\u001b[0;34m\u001b[0m\u001b[0;34m\u001b[0m\u001b[0m\n\u001b[0;32m----> 2\u001b[0;31m \u001b[0mmae\u001b[0m \u001b[0;34m=\u001b[0m \u001b[0mmean_absolute_error\u001b[0m\u001b[0;34m(\u001b[0m\u001b[0my_test\u001b[0m\u001b[0;34m,\u001b[0m \u001b[0my_pred\u001b[0m\u001b[0;34m)\u001b[0m\u001b[0;34m\u001b[0m\u001b[0;34m\u001b[0m\u001b[0m\n\u001b[0m",
            "\u001b[0;32m/usr/local/lib/python3.6/dist-packages/sklearn/metrics/_regression.py\u001b[0m in \u001b[0;36mmean_absolute_error\u001b[0;34m(y_true, y_pred, sample_weight, multioutput)\u001b[0m\n\u001b[1;32m    176\u001b[0m     \"\"\"\n\u001b[1;32m    177\u001b[0m     y_type, y_true, y_pred, multioutput = _check_reg_targets(\n\u001b[0;32m--> 178\u001b[0;31m         y_true, y_pred, multioutput)\n\u001b[0m\u001b[1;32m    179\u001b[0m     \u001b[0mcheck_consistent_length\u001b[0m\u001b[0;34m(\u001b[0m\u001b[0my_true\u001b[0m\u001b[0;34m,\u001b[0m \u001b[0my_pred\u001b[0m\u001b[0;34m,\u001b[0m \u001b[0msample_weight\u001b[0m\u001b[0;34m)\u001b[0m\u001b[0;34m\u001b[0m\u001b[0;34m\u001b[0m\u001b[0m\n\u001b[1;32m    180\u001b[0m     output_errors = np.average(np.abs(y_pred - y_true),\n",
            "\u001b[0;32m/usr/local/lib/python3.6/dist-packages/sklearn/metrics/_regression.py\u001b[0m in \u001b[0;36m_check_reg_targets\u001b[0;34m(y_true, y_pred, multioutput, dtype)\u001b[0m\n\u001b[1;32m     82\u001b[0m \u001b[0;34m\u001b[0m\u001b[0m\n\u001b[1;32m     83\u001b[0m     \"\"\"\n\u001b[0;32m---> 84\u001b[0;31m     \u001b[0mcheck_consistent_length\u001b[0m\u001b[0;34m(\u001b[0m\u001b[0my_true\u001b[0m\u001b[0;34m,\u001b[0m \u001b[0my_pred\u001b[0m\u001b[0;34m)\u001b[0m\u001b[0;34m\u001b[0m\u001b[0;34m\u001b[0m\u001b[0m\n\u001b[0m\u001b[1;32m     85\u001b[0m     \u001b[0my_true\u001b[0m \u001b[0;34m=\u001b[0m \u001b[0mcheck_array\u001b[0m\u001b[0;34m(\u001b[0m\u001b[0my_true\u001b[0m\u001b[0;34m,\u001b[0m \u001b[0mensure_2d\u001b[0m\u001b[0;34m=\u001b[0m\u001b[0;32mFalse\u001b[0m\u001b[0;34m,\u001b[0m \u001b[0mdtype\u001b[0m\u001b[0;34m=\u001b[0m\u001b[0mdtype\u001b[0m\u001b[0;34m)\u001b[0m\u001b[0;34m\u001b[0m\u001b[0;34m\u001b[0m\u001b[0m\n\u001b[1;32m     86\u001b[0m     \u001b[0my_pred\u001b[0m \u001b[0;34m=\u001b[0m \u001b[0mcheck_array\u001b[0m\u001b[0;34m(\u001b[0m\u001b[0my_pred\u001b[0m\u001b[0;34m,\u001b[0m \u001b[0mensure_2d\u001b[0m\u001b[0;34m=\u001b[0m\u001b[0;32mFalse\u001b[0m\u001b[0;34m,\u001b[0m \u001b[0mdtype\u001b[0m\u001b[0;34m=\u001b[0m\u001b[0mdtype\u001b[0m\u001b[0;34m)\u001b[0m\u001b[0;34m\u001b[0m\u001b[0;34m\u001b[0m\u001b[0m\n",
            "\u001b[0;32m/usr/local/lib/python3.6/dist-packages/sklearn/utils/validation.py\u001b[0m in \u001b[0;36mcheck_consistent_length\u001b[0;34m(*arrays)\u001b[0m\n\u001b[1;32m    210\u001b[0m     \u001b[0;32mif\u001b[0m \u001b[0mlen\u001b[0m\u001b[0;34m(\u001b[0m\u001b[0muniques\u001b[0m\u001b[0;34m)\u001b[0m \u001b[0;34m>\u001b[0m \u001b[0;36m1\u001b[0m\u001b[0;34m:\u001b[0m\u001b[0;34m\u001b[0m\u001b[0;34m\u001b[0m\u001b[0m\n\u001b[1;32m    211\u001b[0m         raise ValueError(\"Found input variables with inconsistent numbers of\"\n\u001b[0;32m--> 212\u001b[0;31m                          \" samples: %r\" % [int(l) for l in lengths])\n\u001b[0m\u001b[1;32m    213\u001b[0m \u001b[0;34m\u001b[0m\u001b[0m\n\u001b[1;32m    214\u001b[0m \u001b[0;34m\u001b[0m\u001b[0m\n",
            "\u001b[0;31mValueError\u001b[0m: Found input variables with inconsistent numbers of samples: [340, 644]"
          ]
        }
      ]
    },
    {
      "cell_type": "markdown",
      "metadata": {
        "id": "DidByDsrOa-o",
        "colab_type": "text"
      },
      "source": [
        "# Stretch Goals, Regression\n",
        "- Make at least 2 visualizations to explore relationships between features and target. You may use any visualization library\n",
        "- Try at least 3 feature combinations. You may select features manually, or automatically\n",
        "- Report validation MAE and $R^2$ for each feature combination you try\n",
        "- Report test MAE and $R^2$ for your final model\n",
        "- Print or plot the coefficients for the features in your model"
      ]
    },
    {
      "cell_type": "code",
      "metadata": {
        "id": "xOfSQIf3Y3OV",
        "colab_type": "code",
        "colab": {}
      },
      "source": [
        "# TODO YOUR CODE HERE"
      ],
      "execution_count": null,
      "outputs": []
    },
    {
      "cell_type": "markdown",
      "metadata": {
        "id": "PdkjBN1Dy_-A",
        "colab_type": "text"
      },
      "source": [
        "# Data Dictionary \n",
        "\n",
        "Here's a description of the data fields:\n",
        "\n",
        "```\n",
        "1st_Flr_SF: First Floor square feet\n",
        "\n",
        "Bedroom_AbvGr: Bedrooms above grade (does NOT include basement bedrooms)\n",
        "\n",
        "Bldg_Type: Type of dwelling\n",
        "\t\t\n",
        "       1Fam\tSingle-family Detached\t\n",
        "       2FmCon\tTwo-family Conversion; originally built as one-family dwelling\n",
        "       Duplx\tDuplex\n",
        "       TwnhsE\tTownhouse End Unit\n",
        "       TwnhsI\tTownhouse Inside Unit\n",
        "       \n",
        "Bsmt_Half_Bath: Basement half bathrooms\n",
        "\n",
        "Bsmt_Full_Bath: Basement full bathrooms\n",
        "\n",
        "Central_Air: Central air conditioning\n",
        "\n",
        "       N\tNo\n",
        "       Y\tYes\n",
        "\t\t\n",
        "Condition_1: Proximity to various conditions\n",
        "\t\n",
        "       Artery\tAdjacent to arterial street\n",
        "       Feedr\tAdjacent to feeder street\t\n",
        "       Norm\tNormal\t\n",
        "       RRNn\tWithin 200' of North-South Railroad\n",
        "       RRAn\tAdjacent to North-South Railroad\n",
        "       PosN\tNear positive off-site feature--park, greenbelt, etc.\n",
        "       PosA\tAdjacent to postive off-site feature\n",
        "       RRNe\tWithin 200' of East-West Railroad\n",
        "       RRAe\tAdjacent to East-West Railroad\n",
        "\t\n",
        "Condition_2: Proximity to various conditions (if more than one is present)\n",
        "\t\t\n",
        "       Artery\tAdjacent to arterial street\n",
        "       Feedr\tAdjacent to feeder street\t\n",
        "       Norm\tNormal\t\n",
        "       RRNn\tWithin 200' of North-South Railroad\n",
        "       RRAn\tAdjacent to North-South Railroad\n",
        "       PosN\tNear positive off-site feature--park, greenbelt, etc.\n",
        "       PosA\tAdjacent to postive off-site feature\n",
        "       RRNe\tWithin 200' of East-West Railroad\n",
        "       RRAe\tAdjacent to East-West Railroad\n",
        "       \n",
        " Electrical: Electrical system\n",
        "\n",
        "       SBrkr\tStandard Circuit Breakers & Romex\n",
        "       FuseA\tFuse Box over 60 AMP and all Romex wiring (Average)\t\n",
        "       FuseF\t60 AMP Fuse Box and mostly Romex wiring (Fair)\n",
        "       FuseP\t60 AMP Fuse Box and mostly knob & tube wiring (poor)\n",
        "       Mix\tMixed\n",
        "       \n",
        " Exter_Cond: Evaluates the present condition of the material on the exterior\n",
        "\t\t\n",
        "       Ex\tExcellent\n",
        "       Gd\tGood\n",
        "       TA\tAverage/Typical\n",
        "       Fa\tFair\n",
        "       Po\tPoor\n",
        " \n",
        " Exter_Qual: Evaluates the quality of the material on the exterior \n",
        "\t\t\n",
        "       Ex\tExcellent\n",
        "       Gd\tGood\n",
        "       TA\tAverage/Typical\n",
        "       Fa\tFair\n",
        "       Po\tPoor\n",
        "\t\t\n",
        "Exterior_1st: Exterior covering on house\n",
        "\n",
        "       AsbShng\tAsbestos Shingles\n",
        "       AsphShn\tAsphalt Shingles\n",
        "       BrkComm\tBrick Common\n",
        "       BrkFace\tBrick Face\n",
        "       CBlock\tCinder Block\n",
        "       CemntBd\tCement Board\n",
        "       HdBoard\tHard Board\n",
        "       ImStucc\tImitation Stucco\n",
        "       MetalSd\tMetal Siding\n",
        "       Other\tOther\n",
        "       Plywood\tPlywood\n",
        "       PreCast\tPreCast\t\n",
        "       Stone\tStone\n",
        "       Stucco\tStucco\n",
        "       VinylSd\tVinyl Siding\n",
        "       Wd Sdng\tWood Siding\n",
        "       WdShing\tWood Shingles\n",
        "\t\n",
        "Exterior_2nd: Exterior covering on house (if more than one material)\n",
        "\n",
        "       AsbShng\tAsbestos Shingles\n",
        "       AsphShn\tAsphalt Shingles\n",
        "       BrkComm\tBrick Common\n",
        "       BrkFace\tBrick Face\n",
        "       CBlock\tCinder Block\n",
        "       CemntBd\tCement Board\n",
        "       HdBoard\tHard Board\n",
        "       ImStucc\tImitation Stucco\n",
        "       MetalSd\tMetal Siding\n",
        "       Other\tOther\n",
        "       Plywood\tPlywood\n",
        "       PreCast\tPreCast\n",
        "       Stone\tStone\n",
        "       Stucco\tStucco\n",
        "       VinylSd\tVinyl Siding\n",
        "       Wd Sdng\tWood Siding\n",
        "       WdShing\tWood Shingles\n",
        "       \n",
        "Foundation: Type of foundation\n",
        "\t\t\n",
        "       BrkTil\tBrick & Tile\n",
        "       CBlock\tCinder Block\n",
        "       PConc\tPoured Contrete\t\n",
        "       Slab\tSlab\n",
        "       Stone\tStone\n",
        "       Wood\tWood\n",
        "\t\t\n",
        "Full_Bath: Full bathrooms above grade\n",
        "\n",
        "Functional: Home functionality (Assume typical unless deductions are warranted)\n",
        "\n",
        "       Typ\tTypical Functionality\n",
        "       Min1\tMinor Deductions 1\n",
        "       Min2\tMinor Deductions 2\n",
        "       Mod\tModerate Deductions\n",
        "       Maj1\tMajor Deductions 1\n",
        "       Maj2\tMajor Deductions 2\n",
        "       Sev\tSeverely Damaged\n",
        "       Sal\tSalvage only\n",
        "\t\t\n",
        "Gr_Liv_Area: Above grade (ground) living area square feet\n",
        "        \n",
        "Half_Bath: Half baths above grade\n",
        "\n",
        "Heating: Type of heating\n",
        "\t\t\n",
        "       Floor\tFloor Furnace\n",
        "       GasA\tGas forced warm air furnace\n",
        "       GasW\tGas hot water or steam heat\n",
        "       Grav\tGravity furnace\t\n",
        "       OthW\tHot water or steam heat other than gas\n",
        "       Wall\tWall furnace\n",
        "\t\t\n",
        "Heating_QC: Heating quality and condition\n",
        "\n",
        "       Ex\tExcellent\n",
        "       Gd\tGood\n",
        "       TA\tAverage/Typical\n",
        "       Fa\tFair\n",
        "       Po\tPoor\n",
        "\n",
        "House_Style: Style of dwelling\n",
        "\t\n",
        "       1Story\tOne story\n",
        "       1.5Fin\tOne and one-half story: 2nd level finished\n",
        "       1.5Unf\tOne and one-half story: 2nd level unfinished\n",
        "       2Story\tTwo story\n",
        "       2.5Fin\tTwo and one-half story: 2nd level finished\n",
        "       2.5Unf\tTwo and one-half story: 2nd level unfinished\n",
        "       SFoyer\tSplit Foyer\n",
        "       SLvl\tSplit Level\n",
        "\n",
        "Kitchen_AbvGr: Kitchens above grade\n",
        "\n",
        "Kitchen_Qual: Kitchen quality\n",
        "\n",
        "       Ex\tExcellent\n",
        "       Gd\tGood\n",
        "       TA\tTypical/Average\n",
        "       Fa\tFair\n",
        "       Po\tPoor\n",
        "\n",
        "LandContour: Flatness of the property\n",
        "\n",
        "       Lvl\tNear Flat/Level\t\n",
        "       Bnk\tBanked - Quick and significant rise from street grade to building\n",
        "       HLS\tHillside - Significant slope from side to side\n",
        "       Low\tDepression\n",
        "\t\t\n",
        "Land_Slope: Slope of property\n",
        "\t\t\n",
        "       Gtl\tGentle slope\n",
        "       Mod\tModerate Slope\t\n",
        "       Sev\tSevere Slope\n",
        "\n",
        "Lot_Area: Lot size in square feet\n",
        "\n",
        "Lot_Config: Lot configuration\n",
        "\n",
        "       Inside\tInside lot\n",
        "       Corner\tCorner lot\n",
        "       CulDSac\tCul-de-sac\n",
        "       FR2\tFrontage on 2 sides of property\n",
        "       FR3\tFrontage on 3 sides of property\n",
        "\n",
        "Lot_Shape: General shape of property\n",
        "\n",
        "       Reg\tRegular\t\n",
        "       IR1\tSlightly irregular\n",
        "       IR2\tModerately Irregular\n",
        "       IR3\tIrregular\n",
        "\n",
        "MS_SubClass: Identifies the type of dwelling involved in the sale.\t\n",
        "\n",
        "        20\t1-STORY 1946 & NEWER ALL STYLES\n",
        "        30\t1-STORY 1945 & OLDER\n",
        "        40\t1-STORY W/FINISHED ATTIC ALL AGES\n",
        "        45\t1-1/2 STORY - UNFINISHED ALL AGES\n",
        "        50\t1-1/2 STORY FINISHED ALL AGES\n",
        "        60\t2-STORY 1946 & NEWER\n",
        "        70\t2-STORY 1945 & OLDER\n",
        "        75\t2-1/2 STORY ALL AGES\n",
        "        80\tSPLIT OR MULTI-LEVEL\n",
        "        85\tSPLIT FOYER\n",
        "        90\tDUPLEX - ALL STYLES AND AGES\n",
        "       120\t1-STORY PUD (Planned Unit Development) - 1946 & NEWER\n",
        "       150\t1-1/2 STORY PUD - ALL AGES\n",
        "       160\t2-STORY PUD - 1946 & NEWER\n",
        "       180\tPUD - MULTILEVEL - INCL SPLIT LEV/FOYER\n",
        "       190\t2 FAMILY CONVERSION - ALL STYLES AND AGES\n",
        "\n",
        "MS_Zoning: Identifies the general zoning classification of the sale.\n",
        "\t\t\n",
        "       A\tAgriculture\n",
        "       C\tCommercial\n",
        "       FV\tFloating Village Residential\n",
        "       I\tIndustrial\n",
        "       RH\tResidential High Density\n",
        "       RL\tResidential Low Density\n",
        "       RP\tResidential Low Density Park \n",
        "       RM\tResidential Medium Density\n",
        "\n",
        "Mas_Vnr_Type: Masonry veneer type\n",
        "\n",
        "       BrkCmn\tBrick Common\n",
        "       BrkFace\tBrick Face\n",
        "       CBlock\tCinder Block\n",
        "       None\tNone\n",
        "       Stone\tStone\n",
        "\n",
        "Mo_Sold: Month Sold (MM)\n",
        "\n",
        "Neighborhood: Physical locations within Ames city limits\n",
        "\n",
        "       Blmngtn\tBloomington Heights\n",
        "       Blueste\tBluestem\n",
        "       BrDale\tBriardale\n",
        "       BrkSide\tBrookside\n",
        "       ClearCr\tClear Creek\n",
        "       CollgCr\tCollege Creek\n",
        "       Crawfor\tCrawford\n",
        "       Edwards\tEdwards\n",
        "       Gilbert\tGilbert\n",
        "       IDOTRR\tIowa DOT and Rail Road\n",
        "       MeadowV\tMeadow Village\n",
        "       Mitchel\tMitchell\n",
        "       Names\tNorth Ames\n",
        "       NoRidge\tNorthridge\n",
        "       NPkVill\tNorthpark Villa\n",
        "       NridgHt\tNorthridge Heights\n",
        "       NWAmes\tNorthwest Ames\n",
        "       OldTown\tOld Town\n",
        "       SWISU\tSouth & West of Iowa State University\n",
        "       Sawyer\tSawyer\n",
        "       SawyerW\tSawyer West\n",
        "       Somerst\tSomerset\n",
        "       StoneBr\tStone Brook\n",
        "       Timber\tTimberland\n",
        "       Veenker\tVeenker\n",
        "\t\t\t\n",
        "Overall_Cond: Rates the overall condition of the house\n",
        "\n",
        "       10\tVery Excellent\n",
        "       9\tExcellent\n",
        "       8\tVery Good\n",
        "       7\tGood\n",
        "       6\tAbove Average\t\n",
        "       5\tAverage\n",
        "       4\tBelow Average\t\n",
        "       3\tFair\n",
        "       2\tPoor\n",
        "       1\tVery Poor\n",
        "\n",
        "Overall_Qual: Rates the overall material and finish of the house\n",
        "\n",
        "       10\tVery Excellent\n",
        "       9\tExcellent\n",
        "       8\tVery Good\n",
        "       7\tGood\n",
        "       6\tAbove Average\n",
        "       5\tAverage\n",
        "       4\tBelow Average\n",
        "       3\tFair\n",
        "       2\tPoor\n",
        "       1\tVery Poor\n",
        "\n",
        "Paved_Drive: Paved driveway\n",
        "\n",
        "       Y\tPaved \n",
        "       P\tPartial Pavement\n",
        "       N\tDirt/Gravel\n",
        "\n",
        "Roof_Matl: Roof material\n",
        "\n",
        "       ClyTile\tClay or Tile\n",
        "       CompShg\tStandard (Composite) Shingle\n",
        "       Membran\tMembrane\n",
        "       Metal\tMetal\n",
        "       Roll\tRoll\n",
        "       Tar&Grv\tGravel & Tar\n",
        "       WdShake\tWood Shakes\n",
        "       WdShngl\tWood Shingles\n",
        "\n",
        "Roof_Style: Type of roof\n",
        "\n",
        "       Flat\tFlat\n",
        "       Gable\tGable\n",
        "       Gambrel\tGabrel (Barn)\n",
        "       Hip\tHip\n",
        "       Mansard\tMansard\n",
        "       Shed\tShed\n",
        "\n",
        "SalePrice: the sales price for each house\n",
        "\n",
        "Sale_Condition: Condition of sale\n",
        "\n",
        "       Normal\tNormal Sale\n",
        "       Abnorml\tAbnormal Sale -  trade, foreclosure, short sale\n",
        "       AdjLand\tAdjoining Land Purchase\n",
        "       Alloca\tAllocation - two linked properties with separate deeds, typically condo with a garage unit\t\n",
        "       Family\tSale between family members\n",
        "       Partial\tHome was not completed when last assessed (associated with New Homes)\n",
        "\n",
        "Sale_Type: Type of sale\n",
        "\t\t\n",
        "       WD \tWarranty Deed - Conventional\n",
        "       CWD\tWarranty Deed - Cash\n",
        "       VWD\tWarranty Deed - VA Loan\n",
        "       New\tHome just constructed and sold\n",
        "       COD\tCourt Officer Deed/Estate\n",
        "       Con\tContract 15% Down payment regular terms\n",
        "       ConLw\tContract Low Down payment and low interest\n",
        "       ConLI\tContract Low Interest\n",
        "       ConLD\tContract Low Down\n",
        "       Oth\tOther\n",
        "\t\n",
        "Street: Type of road access to property\n",
        "\n",
        "       Grvl\tGravel\t\n",
        "       Pave\tPaved\n",
        "       \t\n",
        "TotRms_AbvGrd: Total rooms above grade (does not include bathrooms)\n",
        "\n",
        "Utilities: Type of utilities available\n",
        "\t\t\n",
        "       AllPub\tAll public Utilities (E,G,W,& S)\t\n",
        "       NoSewr\tElectricity, Gas, and Water (Septic Tank)\n",
        "       NoSeWa\tElectricity and Gas Only\n",
        "       ELO\tElectricity only\t\n",
        "\t\n",
        "Year_Built: Original construction date\n",
        "\n",
        "Year_Remod/Add: Remodel date (same as construction date if no remodeling or additions)\n",
        "\t\t\t\t\t\t\n",
        "Yr_Sold: Year Sold (YYYY)\t\n",
        "\n",
        "```"
      ]
    }
  ]
}